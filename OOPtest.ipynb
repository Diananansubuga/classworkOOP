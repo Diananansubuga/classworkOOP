{
 "cells": [
  {
   "cell_type": "code",
   "execution_count": null,
   "metadata": {},
   "outputs": [],
   "source": []
  },
  {
   "cell_type": "markdown",
   "metadata": {},
   "source": [
    "resource(call_id,tittle, is borrowed), Resource(call_id,title) borrowed():void,returned():void, Book(call_id,title,author) Journal(call_id,title,issue)\n",
    "indicate weather or not a book is in the library using method summary()\n",
    "the methods borrowed() and returned() are used to borrow and return a book repectively\n",
    "\n",
    "write python program to define classes clearly showing the relationships between them.\n",
    "write a driver class called Library that can make use of the classes created. the class should give an appropriate output after running the program.\n"
   ]
  }
 ],
 "metadata": {
  "language_info": {
   "name": "python"
  }
 },
 "nbformat": 4,
 "nbformat_minor": 2
}
