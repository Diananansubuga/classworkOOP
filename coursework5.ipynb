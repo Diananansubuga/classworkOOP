{
 "cells": [
  {
   "cell_type": "markdown",
   "metadata": {},
   "source": [
    "exaplain and immollement:\n",
    "the different types of inheritence(simple,multiple,hiercal,multiple and multilevel)."
   ]
  },
  {
   "cell_type": "markdown",
   "metadata": {},
   "source": [
    "Single Inheritance in single inheritance a class can only inherit from one parent class. This is the simplest and most common tyoe of inheritance."
   ]
  },
  {
   "cell_type": "code",
   "execution_count": 2,
   "metadata": {},
   "outputs": [
    {
     "name": "stdout",
     "output_type": "stream",
     "text": [
      "jack barks!!\n"
     ]
    }
   ],
   "source": [
    "class animal:\n",
    "    def __init__(self,name):\n",
    "        self.name=name\n",
    "\n",
    "class dog(animal):\n",
    "    def bark(self):\n",
    "        print(f\"{self.name} barks!!\")\n",
    "\n",
    "dog1 = dog(\"jack\")\n",
    "dog1.bark()"
   ]
  },
  {
   "cell_type": "markdown",
   "metadata": {},
   "source": [
    "Multiple Inheritance: \n",
    "in multiple inheritance, a class can inherit from multiple parent classes. this can be usefull for creating classes that combine features from multiple different types of classes. however, multiple iheritance can also make code more complex and diffcult to maintain."
   ]
  },
  {
   "cell_type": "code",
   "execution_count": 3,
   "metadata": {},
   "outputs": [
    {
     "name": "stdout",
     "output_type": "stream",
     "text": [
      "blue jay is flying!\n"
     ]
    }
   ],
   "source": [
    "class animal:\n",
    "    def __init__(self,name):\n",
    "        self.name=name\n",
    "class flyer:\n",
    "    def fly(self):\n",
    "        print(f\"{self.name} is flying!\")\n",
    "class bird(animal,flyer):\n",
    "    pass\n",
    "bird1=bird(\"blue jay\")\n",
    "\n",
    "bird1.fly()"
   ]
  },
  {
   "cell_type": "markdown",
   "metadata": {},
   "source": [
    "Hierarchical Inheritance:\n",
    "in hierarchical inheritance a parent class can have multiple child classes. This can be usefull for creatinf a hierarchy of classess that represent different tyoes of objecrs that are related to each other."
   ]
  },
  {
   "cell_type": "code",
   "execution_count": 4,
   "metadata": {},
   "outputs": [
    {
     "name": "stdout",
     "output_type": "stream",
     "text": [
      "chewy barks!!\n",
      "garfield moews!!\n",
      "balck beauty neigh!!\n"
     ]
    }
   ],
   "source": [
    "class animal:\n",
    "    def __init__(self,name):\n",
    "        self.name=name\n",
    "\n",
    "class dog(animal):\n",
    "    def bark(self):\n",
    "        print(f\"{self.name} barks!!\")\n",
    "\n",
    "class cat(animal):\n",
    "    def meow(self):\n",
    "        print(f\"{self.name} moews!!\")\n",
    "\n",
    "class horse(animal):\n",
    "    def neigh(self):\n",
    "         print(f\"{self.name} neigh!!\")\n",
    "\n",
    "dog1=dog(\"chewy\")\n",
    "cat1=cat(\"garfield\")\n",
    "horse1=horse(\"balck beauty\")\n",
    "\n",
    "dog1.bark()\n",
    "cat1.meow()\n",
    "horse1.neigh()"
   ]
  },
  {
   "cell_type": "markdown",
   "metadata": {},
   "source": [
    "Multilevel Hierarchy:\n",
    "in multilevel inheritance ,a child class can inherit form another child class. This can be usefull for creating a hierarchy of clsses that represent different types of objectts that are related to each other at multiple levels."
   ]
  },
  {
   "cell_type": "code",
   "execution_count": 1,
   "metadata": {},
   "outputs": [
    {
     "name": "stdout",
     "output_type": "stream",
     "text": [
      "Max barks!\n"
     ]
    }
   ],
   "source": [
    "class Animal:\n",
    "    def __init__(self, name):\n",
    "        self.name = name\n",
    "\n",
    "class Dog(Animal):\n",
    "    def bark(self):\n",
    "        print(f\"{self.name} barks!\")\n",
    "\n",
    "class GermanShepherd(Dog):\n",
    "    pass\n",
    "\n",
    "# Create a GermanShepherd object\n",
    "german_shepherd = GermanShepherd(\"Max\")\n",
    "\n",
    "# Call the bark() method\n",
    "german_shepherd.bark()"
   ]
  },
  {
   "cell_type": "markdown",
   "metadata": {},
   "source": [
    "hybrid inheritance: this is where a class inherits form two or more classes, where one or more of them is a combination of different types of inheritance. This is also known as multipath inheritance.\n"
   ]
  },
  {
   "cell_type": "code",
   "execution_count": null,
   "metadata": {},
   "outputs": [],
   "source": [
    "class animal:\n",
    "    def eat(self):\n",
    "        pass\n",
    "    def sleep(self):\n",
    "        pass\n",
    "\n",
    "class mammal(animal):"
   ]
  }
 ],
 "metadata": {
  "kernelspec": {
   "display_name": "Python 3",
   "language": "python",
   "name": "python3"
  },
  "language_info": {
   "codemirror_mode": {
    "name": "ipython",
    "version": 3
   },
   "file_extension": ".py",
   "mimetype": "text/x-python",
   "name": "python",
   "nbconvert_exporter": "python",
   "pygments_lexer": "ipython3",
   "version": "3.11.4"
  }
 },
 "nbformat": 4,
 "nbformat_minor": 2
}
