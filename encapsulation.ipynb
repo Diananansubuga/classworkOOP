{
 "cells": [
  {
   "cell_type": "code",
   "execution_count": 6,
   "metadata": {},
   "outputs": [
    {
     "name": "stdout",
     "output_type": "stream",
     "text": [
      "Salary earned is:  1000000\n",
      "Project  is:  Web development\n",
      "Name is :  Diana\n",
      "21\n"
     ]
    }
   ],
   "source": [
    "class Employee():\n",
    "    def __init__(self,name,salary,project):\n",
    "        self.name=name\n",
    "        self.__salary=salary #private\n",
    "        self._project=project#protected\n",
    "\n",
    "    def work(self):\n",
    "        print(\"Project  is: \",self._project)\n",
    "\n",
    "    def show(self):\n",
    "        print(\"Salary earned is: \",self.__salary) #unprotect\n",
    "\n",
    "emp_info=Employee(\"Diana\",1000000,\"Web development\")\n",
    "\n",
    "emp_info.show()\n",
    "emp_info.work()\n",
    "\n",
    "\n",
    "\n",
    "\n",
    "\n",
    "\n",
    "\n"
   ]
  },
  {
   "cell_type": "code",
   "execution_count": 28,
   "metadata": {},
   "outputs": [
    {
     "name": "stdout",
     "output_type": "stream",
     "text": [
      "Name is :  Diana\n",
      "21\n",
      "12\n",
      "12\n",
      "98593\n",
      "Invalid Acess Number Please set Correct Access Number: \n",
      "Reg number is:  98593\n"
     ]
    }
   ],
   "source": [
    "class Student():\n",
    "    def __init__(self,name,age,regno):\n",
    "     self.name = name\n",
    "     self.__age = age\n",
    "     self.__regno=regno\n",
    "\n",
    "    def get_age(self): #get method\n",
    "        return self.__age\n",
    "    def set_age(self,age):#set method\n",
    "        self.__age=age\n",
    "        return self.__age\n",
    "    \n",
    "    def get_regno(self): #get method\n",
    "        return self.__regno\n",
    "    def set_reg_no(self,regno):#set method\n",
    "        if (regno)>99999:\n",
    "            print(\"Invalid Acess Number Please set Correct Access Number: \")\n",
    "        else :\n",
    "            self.__regno=regno\n",
    "        \n",
    "        return self.__regno\n",
    "    \n",
    "student=Student(\"Diana\",21,98593)\n",
    "print(\"Name is : \",student.name)\n",
    "print(student.get_age())\n",
    "print(student.set_age(12))\n",
    "print(student.get_age())\n",
    "\n",
    "print(student.get_regno())\n",
    "print(\"Reg number is: \",student.set_reg_no(765490))\n",
    "# print(student.get__regno())\n",
    "\n",
    "\n",
    "\n",
    "\n",
    "\n",
    "\n",
    "\n",
    "\n",
    "\n"
   ]
  },
  {
   "cell_type": "markdown",
   "metadata": {},
   "source": [
    "private:double undersocre\n",
    "private: int underscore_p\n",
    "\n",
    "protected: single underscore\n",
    "\n",
    "getter-get data methods\n",
    "setters-modify data in methods."
   ]
  },
  {
   "cell_type": "markdown",
   "metadata": {},
   "source": [
    "practical task: Design a class with private attributes and provide public methods to manipulate it."
   ]
  }
 ],
 "metadata": {
  "kernelspec": {
   "display_name": "Python 3",
   "language": "python",
   "name": "python3"
  },
  "language_info": {
   "codemirror_mode": {
    "name": "ipython",
    "version": 3
   },
   "file_extension": ".py",
   "mimetype": "text/x-python",
   "name": "python",
   "nbconvert_exporter": "python",
   "pygments_lexer": "ipython3",
   "version": "3.11.4"
  }
 },
 "nbformat": 4,
 "nbformat_minor": 2
}
