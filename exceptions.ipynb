{
 "cells": [
  {
   "cell_type": "code",
   "execution_count": 4,
   "metadata": {},
   "outputs": [
    {
     "name": "stdout",
     "output_type": "stream",
     "text": [
      "File written sucessfully\n"
     ]
    }
   ],
   "source": [
    "try: \n",
    "\n",
    "    fh=open(\"testfile.txt\",\"w\")\n",
    "    fh.write(\"this is my Test file for exception handling\")\n",
    "except:\n",
    "    IOError: print(\"Cant read/find file\")\n",
    "\n",
    "else:\n",
    "   print(\"File written sucessfully\")\n"
   ]
  },
  {
   "cell_type": "code",
   "execution_count": 9,
   "metadata": {},
   "outputs": [
    {
     "name": "stdout",
     "output_type": "stream",
     "text": [
      "<class 'ZeroDivisionError'>\n"
     ]
    }
   ],
   "source": [
    "def numbers(a,b):\n",
    "    if b==0:\n",
    "        return ZeroDivisionError\n",
    "    else:\n",
    "        c=a/float(b)\n",
    "        print(\"The result is\",c)\n",
    "\n",
    "Numbers=numbers(2,0)\n",
    "print(Numbers)\n"
   ]
  },
  {
   "cell_type": "code",
   "execution_count": 10,
   "metadata": {},
   "outputs": [
    {
     "ename": "SyntaxError",
     "evalue": "multiple exception types must be parenthesized (495946822.py, line 7)",
     "output_type": "error",
     "traceback": [
      "\u001b[1;36m  Cell \u001b[1;32mIn[10], line 7\u001b[1;36m\u001b[0m\n\u001b[1;33m    except Networkerror, e:\u001b[0m\n\u001b[1;37m           ^\u001b[0m\n\u001b[1;31mSyntaxError\u001b[0m\u001b[1;31m:\u001b[0m multiple exception types must be parenthesized\n"
     ]
    }
   ],
   "source": [
    "class Networkerror (RuntimeError):\n",
    "    def __init__(self, args):\n",
    "        self.args=arg\n",
    "\n",
    "    try:\n",
    "\n",
    "        \n",
    "        raise Networkerror(\"Bad Hostname\")\n",
    "    except Networkerror, e:\n",
    "        print(e.args)\n",
    "        \n",
    "    "
   ]
  }
 ],
 "metadata": {
  "kernelspec": {
   "display_name": "Python 3",
   "language": "python",
   "name": "python3"
  },
  "language_info": {
   "codemirror_mode": {
    "name": "ipython",
    "version": 3
   },
   "file_extension": ".py",
   "mimetype": "text/x-python",
   "name": "python",
   "nbconvert_exporter": "python",
   "pygments_lexer": "ipython3",
   "version": "3.11.4"
  }
 },
 "nbformat": 4,
 "nbformat_minor": 2
}
